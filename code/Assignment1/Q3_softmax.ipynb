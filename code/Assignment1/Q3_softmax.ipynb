{
 "cells": [
  {
   "cell_type": "markdown",
   "metadata": {},
   "source": [
    "# Softmax exercise\n",
    "\n",
    "\n",
    "这个练习和SVM部分是差不多（analogous，类似的）的，你需要\n",
    "- 实现Softmax分类器的完全向量化的**损失函数**\n",
    "- 实现完全向量化的**解析梯度**表示\n",
    "- **使用数值梯度检查**解析梯度的实现\n",
    "- 使用验证集来**调节学习率和正则项强度**这两个超参\n",
    "- 使用**SGD**来**优化**损失函数\n",
    "- **可视化**最终学到的权重"
   ]
  },
  {
   "cell_type": "code",
   "execution_count": 2,
   "metadata": {
    "collapsed": false
   },
   "outputs": [],
   "source": [
    "import random\n",
    "import numpy as np\n",
    "from utils.datasets_util import load_cifar10\n",
    "import matplotlib.pyplot as plt\n",
    "\n",
    "%matplotlib inline\n",
    "plt.rcParams['figure.figsize'] = (10.0, 8.0) # set default size of plots\n",
    "plt.rcParams['image.interpolation'] = 'nearest'\n",
    "plt.rcParams['image.cmap'] = 'gray'\n",
    "\n",
    "# for auto-reloading extenrnal modules\n",
    "# see http://stackoverflow.com/questions/1907993/autoreload-of-modules-in-ipython\n",
    "%load_ext autoreload\n",
    "%autoreload 2"
   ]
  },
  {
   "cell_type": "code",
   "execution_count": 6,
   "metadata": {
    "collapsed": false
   },
   "outputs": [
    {
     "name": "stdout",
     "output_type": "stream",
     "text": [
      "Train data shape:  (49000, 3073)\n",
      "Train labels shape:  (49000,)\n",
      "Validation data shape:  (1000, 3073)\n",
      "Validation labels shape:  (1000,)\n",
      "Test data shape:  (1000, 3073)\n",
      "Test labels shape:  (1000,)\n",
      "dev data shape:  (500, 3073)\n",
      "dev labels shape:  (500,)\n"
     ]
    }
   ],
   "source": [
    "def get_CIFAR10_data(num_training=49000, num_validation=1000, num_test=1000, num_dev=500):\n",
    "    \"\"\"\n",
    "    Load the CIFAR-10 dataset from disk and perform preprocessing to prepare\n",
    "    it for the linear classifier. These are the same steps as we used for the\n",
    "    SVM, but condensed to a single function.  \n",
    "    \"\"\"\n",
    "    # Load the raw CIFAR-10 data\n",
    "    cifar10_dir = '../../datasets/cifar-10-batches-py'\n",
    "    X_train, y_train, X_test, y_test = load_cifar10(cifar10_dir)\n",
    "    \n",
    "    X_val = X_train[num_training:num_training + num_validation].astype(float)\n",
    "    y_val = y_train[num_training:num_training + num_validation]\n",
    "\n",
    "    X_train = X_train[:num_training].astype(float)\n",
    "    y_train = y_train[:num_training]\n",
    "\n",
    "    X_test = X_test[:num_test].astype(float)\n",
    "    y_test = y_test[:num_test]\n",
    "\n",
    "    # 从训练集中划分出一个小的训练集，用来快速验证学习率和检查代码\n",
    "    mask = np.random.choice(num_training, num_dev, replace=False)\n",
    "    X_dev = X_train[mask].astype(float)\n",
    "    y_dev = y_train[mask]\n",
    "\n",
    "    # Preprocessing: reshape the image data into rows\n",
    "    X_train = np.reshape(X_train, (X_train.shape[0], -1))\n",
    "    X_val = np.reshape(X_val, (X_val.shape[0], -1))\n",
    "    X_test = np.reshape(X_test, (X_test.shape[0], -1))\n",
    "    X_dev = np.reshape(X_dev, (X_dev.shape[0], -1))\n",
    "    \n",
    "    # Normalize the data: subtract the mean image\n",
    "    mean_image = np.mean(X_train, axis = 0)\n",
    "    X_train -= mean_image\n",
    "    X_val -= mean_image\n",
    "    X_test -= mean_image\n",
    "    X_dev -= mean_image\n",
    "    \n",
    "    # add bias dimension and transform into columns\n",
    "    X_train = np.hstack([X_train, np.ones((X_train.shape[0], 1))])\n",
    "    X_val = np.hstack([X_val, np.ones((X_val.shape[0], 1))])\n",
    "    X_test = np.hstack([X_test, np.ones((X_test.shape[0], 1))])\n",
    "    X_dev = np.hstack([X_dev, np.ones((X_dev.shape[0], 1))])\n",
    "    \n",
    "    return X_train, y_train, X_val, y_val, X_test, y_test, X_dev, y_dev\n",
    "\n",
    "\n",
    "# Invoke the above function to get our data.\n",
    "X_train, y_train, X_val, y_val, X_test, y_test, X_dev, y_dev = get_CIFAR10_data()\n",
    "print('Train data shape: ', X_train.shape)\n",
    "print('Train labels shape: ', y_train.shape)\n",
    "print('Validation data shape: ', X_val.shape)\n",
    "print('Validation labels shape: ', y_val.shape)\n",
    "print('Test data shape: ', X_test.shape)\n",
    "print('Test labels shape: ', y_test.shape)\n",
    "print('dev data shape: ', X_dev.shape)\n",
    "print('dev labels shape: ', y_dev.shape)"
   ]
  },
  {
   "cell_type": "markdown",
   "metadata": {},
   "source": [
    "## Softmax Classifier\n",
    "\n",
    "这部分要用到的函数都在**cs231n/classifiers/softmax.py**中\n"
   ]
  },
  {
   "cell_type": "code",
   "execution_count": 19,
   "metadata": {
    "collapsed": false
   },
   "outputs": [
    {
     "name": "stdout",
     "output_type": "stream",
     "text": [
      "loss: 2.376615\n",
      "sanity check: 2.302585\n"
     ]
    }
   ],
   "source": [
    "# First implement the naive softmax loss function with nested loops.\n",
    "# Open the file cs231n/classifiers/softmax.py and implement the\n",
    "# softmax_loss_naive function.\n",
    "\n",
    "from utils.classifiers.softmax import softmax_loss_naive\n",
    "import time\n",
    "\n",
    "# Generate a random softmax weight matrix and use it to compute the loss.\n",
    "# 在X_dev 开发集上进行代码测试和快速验证\n",
    "W = np.random.randn(3073, 10) * 0.0001\n",
    "loss, grad = softmax_loss_naive(W, X_dev, y_dev, 0.0)\n",
    "\n",
    "# As a rough sanity check, our loss should be something close to -log(0.1).\n",
    "# 进行一个粗略的完整性检查，得到的损失应该接近-log(0.1)\n",
    "print('loss: %f' % loss)\n",
    "print('sanity check: %f' % (-np.log(0.1))) # sanity check: 2.302585"
   ]
  },
  {
   "cell_type": "markdown",
   "metadata": {},
   "source": [
    "## 问题1:\n",
    "为什么我们期望loss接近于-log(0.1)，详细说明\n",
    "\n",
    "**Your answer:**\n",
    "+ 因为权重是随机初始化的，所以对于每个输出y来说，其对应的那组权重，多个y对应的多组权重值是差不多的。\n",
    "+ $L_i=-log\\frac{e^{s_k}}{\\sum_je^{s_j}}$，\n",
    "+ 对于10个类别来说，$s_k\\approx s_j$,因此$L_i=-log(\\frac{1}{10})=-log(0.1)$\n"
   ]
  },
  {
   "cell_type": "code",
   "execution_count": 32,
   "metadata": {
    "collapsed": false
   },
   "outputs": [
    {
     "name": "stdout",
     "output_type": "stream",
     "text": [
      "numerical: 0.444490 analytic: 0.444490, relative error: 1.347898e-07\n",
      "numerical: 1.025559 analytic: 1.025559, relative error: 6.880360e-08\n",
      "numerical: -1.135487 analytic: -1.135487, relative error: 1.953514e-08\n",
      "numerical: 0.158389 analytic: 0.158389, relative error: 3.263668e-07\n",
      "numerical: 0.381120 analytic: 0.381120, relative error: 2.474976e-07\n",
      "numerical: 1.745401 analytic: 1.745401, relative error: 6.913612e-10\n",
      "numerical: -0.026991 analytic: -0.026991, relative error: 2.339423e-06\n",
      "numerical: 1.720426 analytic: 1.720425, relative error: 2.213363e-08\n",
      "numerical: 0.905749 analytic: 0.905749, relative error: 1.432923e-08\n",
      "numerical: -0.423048 analytic: -0.423048, relative error: 1.230166e-07\n",
      "numerical: 0.806833 analytic: 0.806833, relative error: 4.458520e-08\n",
      "numerical: -1.758306 analytic: -1.758306, relative error: 2.156294e-08\n",
      "numerical: 0.381408 analytic: 0.381408, relative error: 1.278469e-07\n",
      "numerical: -3.853391 analytic: -3.853391, relative error: 4.280157e-09\n",
      "numerical: 0.640474 analytic: 0.640474, relative error: 1.821811e-08\n",
      "numerical: -0.199196 analytic: -0.199196, relative error: 2.409415e-07\n",
      "numerical: 3.025003 analytic: 3.025003, relative error: 1.627757e-08\n",
      "numerical: -0.348375 analytic: -0.348375, relative error: 3.315589e-08\n",
      "numerical: 1.798958 analytic: 1.798958, relative error: 3.886626e-08\n",
      "numerical: 0.564848 analytic: 0.564848, relative error: 8.130286e-08\n"
     ]
    }
   ],
   "source": [
    "# Complete the implementation of softmax_loss_naive and implement a (naive)\n",
    "# version of the gradient that uses nested loops.\n",
    "loss, grad = softmax_loss_naive(W, X_dev, y_dev, 0.0)\n",
    "\n",
    "# As we did for the SVM, use numeric gradient checking as a debugging tool.\n",
    "# The numeric gradient should be close to the analytic gradient.\n",
    "# 使用数值梯度检查解析梯度是否正确\n",
    "from utils.gradient_check import grad_check_sparse\n",
    "f = lambda w: softmax_loss_naive(w, X_dev, y_dev, 0.0)[0]\n",
    "grad_numerical = grad_check_sparse(f, W, grad, 10)\n",
    "\n",
    "# similar to SVM case, do another gradient check with regularization\n",
    "loss, grad = softmax_loss_naive(W, X_dev, y_dev, 5e1)\n",
    "f = lambda w: softmax_loss_naive(w, X_dev, y_dev, 5e1)[0]\n",
    "grad_numerical = grad_check_sparse(f, W, grad, 10)"
   ]
  },
  {
   "cell_type": "code",
   "execution_count": 31,
   "metadata": {
    "collapsed": false
   },
   "outputs": [
    {
     "name": "stdout",
     "output_type": "stream",
     "text": [
      "naive loss: 2.376615e+00 computed in 0.134533s\n",
      "(500, 10)\n",
      "vectorized loss: 2.376615e+00 computed in 0.005488s\n",
      "Loss difference: 0.000000\n",
      "Gradient difference: 0.000000\n"
     ]
    }
   ],
   "source": [
    "# Now that we have a naive implementation of the softmax loss function and its gradient,\n",
    "# implement a vectorized version in softmax_loss_vectorized.\n",
    "# The two versions should compute the same results, but the vectorized version should be\n",
    "# much faster.\n",
    "tic = time.time()\n",
    "loss_naive, grad_naive = softmax_loss_naive(W, X_dev, y_dev, 0.000005)\n",
    "toc = time.time()\n",
    "print('naive loss: %e computed in %fs' % (loss_naive, toc - tic))\n",
    "\n",
    "from utils.classifiers.softmax import softmax_loss_vectorized\n",
    "tic = time.time()\n",
    "loss_vectorized, grad_vectorized = softmax_loss_vectorized(W, X_dev, y_dev, 0.000005)\n",
    "toc = time.time()\n",
    "print('vectorized loss: %e computed in %fs' % (loss_vectorized, toc - tic))\n",
    "\n",
    "# As we did for the SVM, we use the Frobenius norm to compare the two versions\n",
    "# of the gradient.\n",
    "grad_difference = np.linalg.norm(grad_naive - grad_vectorized, ord='fro')\n",
    "print('Loss difference: %f' % np.abs(loss_naive - loss_vectorized))\n",
    "print('Gradient difference: %f' % grad_difference)"
   ]
  },
  {
   "cell_type": "code",
   "execution_count": 35,
   "metadata": {
    "collapsed": false
   },
   "outputs": [
    {
     "name": "stdout",
     "output_type": "stream",
     "text": [
      "lr 1.674838e-07 reg 3.279596e+04 train accuracy: 0.340102 val accuracy: 0.357000\n",
      "lr 1.948468e-07 reg 3.015583e+04 train accuracy: 0.336939 val accuracy: 0.350000\n",
      "lr 4.529789e-07 reg 4.697555e+04 train accuracy: 0.331020 val accuracy: 0.356000\n",
      "lr 4.583022e-07 reg 3.871647e+04 train accuracy: 0.340959 val accuracy: 0.352000\n",
      "lr 1.336471e-06 reg 4.037359e+04 train accuracy: 0.315959 val accuracy: 0.329000\n",
      "lr 4.716792e-06 reg 2.772299e+04 train accuracy: 0.270633 val accuracy: 0.290000\n",
      "lr 5.944367e-06 reg 3.266784e+04 train accuracy: 0.194857 val accuracy: 0.225000\n",
      "lr 6.325846e-06 reg 4.726162e+04 train accuracy: 0.163061 val accuracy: 0.179000\n",
      "lr 2.920085e-05 reg 4.758670e+04 train accuracy: 0.120673 val accuracy: 0.118000\n",
      "lr 4.717535e-05 reg 2.795429e+04 train accuracy: 0.077776 val accuracy: 0.085000\n",
      "best validation accuracy achieved during cross-validation: 0.357000\n"
     ]
    }
   ],
   "source": [
    "# Use the validation set to tune hyperparameters (regularization strength and\n",
    "# learning rate). You should experiment with different ranges for the learning\n",
    "# rates and regularization strengths; if you are careful you should be able to\n",
    "# get a classification accuracy of over 0.35 on the validation set.\n",
    "# 使用val来调超参，不是dev（开发集），上面调试程序debug都是开发集\n",
    "# SVM里调参好一点验证集可以到0.4，Softmax这里调参好一点只能到0.35\n",
    "from utils.classifiers import Softmax\n",
    "results = {}\n",
    "best_val = -1\n",
    "best_softmax = None\n",
    "learning_rates = [1e-7, 5e-7]\n",
    "regularization_strengths = [2.5e4, 5e4]\n",
    "\n",
    "################################################################################\n",
    "# TODO:                                                                        #\n",
    "# Use the validation set to set the learning rate and regularization strength. #\n",
    "# This should be identical to the validation that you did for the SVM; save    #\n",
    "# the best trained softmax classifer in best_softmax.                          #\n",
    "################################################################################\n",
    "# 要求和SVM一样\n",
    "np.random.seed(1)\n",
    "for i in range(10):\n",
    "    learning_rate = 10**np.random.uniform(-7, -4.3)\n",
    "    regularization_strength = 10**np.random.uniform(4.39, 4.69)\n",
    "    softmax_classifier = Softmax()\n",
    "    loss_history = softmax_classifier.train(\n",
    "        X_train, y_train, learning_rate=learning_rate, reg=regularization_strength, num_iters=1500, verbose=False)\n",
    "    y_train_pred = softmax_classifier.predict(X_train)\n",
    "    y_val_pred = softmax_classifier.predict(X_val)\n",
    "    train_accuracy = np.mean(y_train_pred==y_train)\n",
    "    val_accuracy = np.mean(y_val_pred==y_val)\n",
    "    if val_accuracy>best_val:\n",
    "        best_val=val_accuracy\n",
    "        best_softmax = softmax_classifier\n",
    "    results[(learning_rate,regularization_strength)]=(train_accuracy,val_accuracy)\n",
    "\n",
    "# Print out results.\n",
    "for lr, reg in sorted(results):\n",
    "    train_accuracy, val_accuracy = results[(lr, reg)]\n",
    "    print('lr %e reg %e train accuracy: %f val accuracy: %f' % (\n",
    "        lr, reg, train_accuracy, val_accuracy))\n",
    "\n",
    "print('best validation accuracy achieved during cross-validation: %f' % best_val)"
   ]
  },
  {
   "cell_type": "markdown",
   "metadata": {},
   "source": [
    "果然按照给的这个范围确实可以到0.35左右，可以看看这个人的参数范围：<https://github.com/amanchadha/stanford-cs231n-assignments-2020/blob/master/assignment1/softmax.ipynb>"
   ]
  },
  {
   "cell_type": "code",
   "execution_count": 36,
   "metadata": {
    "collapsed": false
   },
   "outputs": [
    {
     "name": "stdout",
     "output_type": "stream",
     "text": [
      "softmax on raw pixels final test set accuracy: 0.352000\n"
     ]
    }
   ],
   "source": [
    "# evaluate on test set\n",
    "# Evaluate the best softmax on test set\n",
    "y_test_pred = best_softmax.predict(X_test)\n",
    "test_accuracy = np.mean(y_test == y_test_pred)\n",
    "print('softmax on raw pixels final test set accuracy: %f' % (test_accuracy, ))"
   ]
  },
  {
   "cell_type": "code",
   "execution_count": 37,
   "metadata": {
    "collapsed": false
   },
   "outputs": [
    {
     "data": {
      "image/png": "[encoded data removed]",
      "text/plain": [
       "<Figure size 720x576 with 10 Axes>"
      ]
     },
     "metadata": {
      "needs_background": "light"
     },
     "output_type": "display_data"
    }
   ],
   "source": [
    "# Visualize the learned weights for each class\n",
    "w = best_softmax.W[:-1,:] # strip out the bias\n",
    "w = w.reshape(32, 32, 3, 10)\n",
    "\n",
    "w_min, w_max = np.min(w), np.max(w)\n",
    "\n",
    "classes = ['plane', 'car', 'bird', 'cat', 'deer', 'dog', 'frog', 'horse', 'ship', 'truck']\n",
    "for i in range(10):\n",
    "    plt.subplot(2, 5, i + 1)\n",
    "    \n",
    "    # Rescale the weights to be between 0 and 255\n",
    "    wimg = 255.0 * (w[:, :, :, i].squeeze() - w_min) / (w_max - w_min)\n",
    "    plt.imshow(wimg.astype('uint8'))\n",
    "    plt.axis('off')\n",
    "    plt.title(classes[i])"
   ]
  },
  {
   "cell_type": "markdown",
   "metadata": {},
   "source": [
    "# 测试代码"
   ]
  },
  {
   "cell_type": "code",
   "execution_count": 23,
   "metadata": {},
   "outputs": [
    {
     "name": "stdout",
     "output_type": "stream",
     "text": [
      "[0.18248786 0.17013528] 0.35262314917931215\n"
     ]
    }
   ],
   "source": [
    "X_example = np.array([[1,2,3],[4,5,6]],dtype=float) \n",
    "W_example = np.array([[0.1,0.2],[0.1,0.1],[0.1,0.1]],dtype=float) \n",
    "Y_example=[1,1]\n",
    "\n",
    "scores = X_example.dot(W_example)\n",
    "loss = np.sum(scores[range(2), Y_example]/np.sum(np.exp(scores), axis=1))\n",
    "print(scores[range(2), Y_example]/np.sum(np.exp(scores), axis=1),loss)"
   ]
  },
  {
   "cell_type": "markdown",
   "metadata": {},
   "source": []
  },
  {
   "cell_type": "markdown",
   "metadata": {},
   "source": []
  },
  {
   "cell_type": "markdown",
   "metadata": {},
   "source": []
  }
 ],
 "metadata": {
  "kernelspec": {
   "display_name": "py37",
   "language": "python",
   "name": "python3"
  },
  "language_info": {
   "codemirror_mode": {
    "name": "ipython",
    "version": 3
   },
   "file_extension": ".py",
   "mimetype": "text/x-python",
   "name": "python",
   "nbconvert_exporter": "python",
   "pygments_lexer": "ipython3",
   "version": "3.7.11"
  }
 },
 "nbformat": 4,
 "nbformat_minor": 0
}
