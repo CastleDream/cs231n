{
 "cells": [
  {
   "cell_type": "code",
   "execution_count": 5,
   "id": "3ebd2064-02bc-46f7-a228-f7c941b3a978",
   "metadata": {},
   "outputs": [
    {
     "data": {
      "text/plain": [
       "0.015625"
      ]
     },
     "execution_count": 5,
     "metadata": {},
     "output_type": "execute_result"
    }
   ],
   "source": [
    "0.25**3"
   ]
  },
  {
   "cell_type": "markdown",
   "id": "9a9f8c4c-129e-47eb-9a80-5c6c3b9eae3e",
   "metadata": {},
   "source": [
    "## 实验1"
   ]
  },
  {
   "cell_type": "code",
   "execution_count": 38,
   "id": "111e5ec5-063b-4184-8496-be75ad2e3353",
   "metadata": {},
   "outputs": [],
   "source": [
    "def relu_op1(x):\n",
    "    y1 = max(0,x)\n",
    "    y2 = 0.5*y1\n",
    "    y3 = max(0,y2)\n",
    "    y4 = -2*y3\n",
    "    y5 = y4+1\n",
    "    y6 = max(0,y5)\n",
    "    y7 = 2*(y6+2)\n",
    "    y8 = max(0,y7)\n",
    "    return y8"
   ]
  },
  {
   "cell_type": "code",
   "execution_count": 39,
   "id": "14724d30-34dd-4633-86e8-8874f5029acb",
   "metadata": {},
   "outputs": [
    {
     "name": "stdout",
     "output_type": "stream",
     "text": [
      "[-5, -4, -3, -2]\n",
      "[6, 6, 6, 6]\n"
     ]
    },
    {
     "data": {
      "text/plain": [
       "[<matplotlib.lines.Line2D at 0x7fc401f23d50>]"
      ]
     },
     "execution_count": 39,
     "metadata": {},
     "output_type": "execute_result"
    },
    {
     "data": {
      "image/png": "[encoded data removed]",
      "text/plain": [
       "<Figure size 432x288 with 1 Axes>"
      ]
     },
     "metadata": {
      "needs_background": "light"
     },
     "output_type": "display_data"
    }
   ],
   "source": [
    "import numpy as np\n",
    "x_list = np.arange(-5,10).tolist()\n",
    "print(x_list[:4])\n",
    "y_list = [relu_op1(x) for x in x_list]\n",
    "print(y_list[:4])\n",
    "\n",
    "import matplotlib.pyplot as plt\n",
    "plt.plot(x_list,y_list)"
   ]
  },
  {
   "cell_type": "markdown",
   "id": "88c9af72-6741-413b-b917-178b248fb012",
   "metadata": {},
   "source": [
    "## 实验2"
   ]
  },
  {
   "cell_type": "code",
   "execution_count": 46,
   "id": "647e6489-e7c3-409c-a9f8-f3ff8b20c812",
   "metadata": {},
   "outputs": [],
   "source": [
    "def relu_op2(x):\n",
    "    y0 = 3*x+0.01\n",
    "    relu1 = max(0,y0)\n",
    "    y1 = 0.5*relu1+1.4\n",
    "    relu2 = max(0,y1)\n",
    "    y2 = -2*relu2+3\n",
    "    relu3 = max(0,y2)\n",
    "    y3 = 2*relu3-1\n",
    "    return y3"
   ]
  },
  {
   "cell_type": "code",
   "execution_count": 47,
   "id": "0b1b0c6b-c0e2-4716-865f-f179ab3292a1",
   "metadata": {},
   "outputs": [
    {
     "name": "stdout",
     "output_type": "stream",
     "text": [
      "[-5, -4, -3, -2]\n",
      "[-0.5999999999999996, -0.5999999999999996, -0.5999999999999996, -0.5999999999999996]\n"
     ]
    },
    {
     "data": {
      "text/plain": [
       "[<matplotlib.lines.Line2D at 0x7fc402361c10>]"
      ]
     },
     "execution_count": 47,
     "metadata": {},
     "output_type": "execute_result"
    },
    {
     "data": {
      "image/png": "[encoded data removed]",
      "text/plain": [
       "<Figure size 432x288 with 1 Axes>"
      ]
     },
     "metadata": {
      "needs_background": "light"
     },
     "output_type": "display_data"
    }
   ],
   "source": [
    "import numpy as np\n",
    "x_list = np.arange(-5,10).tolist()\n",
    "print(x_list[:4])\n",
    "y_list = [relu_op2(x) for x in x_list]\n",
    "print(y_list[:4])\n",
    "\n",
    "import matplotlib.pyplot as plt\n",
    "plt.plot(x_list,y_list)"
   ]
  },
  {
   "cell_type": "markdown",
   "id": "3d11e004-7567-4dc8-a05d-2ed7f91b0c43",
   "metadata": {},
   "source": [
    "**leaky relu**"
   ]
  },
  {
   "cell_type": "markdown",
   "id": "3a1da80c-d678-4811-ad20-fe26242545ff",
   "metadata": {},
   "source": [
    "这个非线性性看起来就更明显了"
   ]
  },
  {
   "cell_type": "code",
   "execution_count": 1,
   "id": "cfebcb0f-4e12-44b7-bfb2-95f6814a7255",
   "metadata": {},
   "outputs": [
    {
     "name": "stdout",
     "output_type": "stream",
     "text": [
      "[-5, -4, -3, -2]\n",
      "[-0.30019999999999936, -0.36019999999999985, -0.42019999999999946, -0.48019999999999996]\n"
     ]
    },
    {
     "data": {
      "text/plain": [
       "[<matplotlib.lines.Line2D at 0x7f8958be3650>]"
      ]
     },
     "execution_count": 1,
     "metadata": {},
     "output_type": "execute_result"
    },
    {
     "data": {
      "image/png": "[encoded data removed]",
      "text/plain": [
       "<Figure size 432x288 with 1 Axes>"
      ]
     },
     "metadata": {
      "needs_background": "light"
     },
     "output_type": "display_data"
    }
   ],
   "source": [
    "def relu_op2(x):\n",
    "    y0 = 3*x+0.01\n",
    "    relu1 = max(0.01*y0,y0)\n",
    "    y1 = 0.5*relu1+1.4\n",
    "    relu2 = max(0.01*y0,y1)\n",
    "    y2 = -2*relu2+3\n",
    "    relu3 = max(0.01*y0,y2)\n",
    "    y3 = 2*relu3-1\n",
    "    return y3\n",
    "\n",
    "import numpy as np\n",
    "x_list = np.arange(-5,10).tolist()\n",
    "print(x_list[:4])\n",
    "y_list = [relu_op2(x) for x in x_list]\n",
    "print(y_list[:4])\n",
    "\n",
    "import matplotlib.pyplot as plt\n",
    "plt.plot(x_list,y_list)"
   ]
  },
  {
   "cell_type": "markdown",
   "id": "01447d97-9759-48dc-90e5-b18eeeafcb53",
   "metadata": {},
   "source": [
    "**但是还是很容易受到影响，如果中间某步骤输入值限制的范围不太合适的话**"
   ]
  },
  {
   "cell_type": "code",
   "execution_count": 4,
   "id": "67d2238a-5d42-4271-9c7a-7f6c08dddf82",
   "metadata": {},
   "outputs": [
    {
     "name": "stdout",
     "output_type": "stream",
     "text": [
      "[-5, -4, -3, -2]\n",
      "[11.6998, 11.639800000000001, 11.5798, 11.5198]\n"
     ]
    },
    {
     "data": {
      "text/plain": [
       "[<matplotlib.lines.Line2D at 0x7f8959080b10>]"
      ]
     },
     "execution_count": 4,
     "metadata": {},
     "output_type": "execute_result"
    },
    {
     "data": {
      "image/png": "[encoded data removed]",
      "text/plain": [
       "<Figure size 432x288 with 1 Axes>"
      ]
     },
     "metadata": {
      "needs_background": "light"
     },
     "output_type": "display_data"
    }
   ],
   "source": [
    "def relu_op2(x):\n",
    "    y0 = 3*x+0.01\n",
    "    relu1 = max(0.01*y0,y0)\n",
    "    y1 = 0.5*relu1+1.4\n",
    "    relu2 = max(0.01*y0,y1)\n",
    "    y2 = -2*relu2+9 # -2，+3，+9\n",
    "    relu3 = max(0.01*y0,y2)\n",
    "    y3 = 2*relu3-1\n",
    "    return y3\n",
    "\n",
    "import numpy as np\n",
    "x_list = np.arange(-5,10).tolist()\n",
    "print(x_list[:4])\n",
    "y_list = [relu_op2(x) for x in x_list]\n",
    "print(y_list[:4])\n",
    "\n",
    "import matplotlib.pyplot as plt\n",
    "plt.plot(x_list,y_list)"
   ]
  },
  {
   "cell_type": "markdown",
   "id": "d65ac98b-6333-4f2f-aa66-2db78eae3b85",
   "metadata": {},
   "source": [
    "## 实验3"
   ]
  },
  {
   "cell_type": "markdown",
   "id": "1d86cc68-d0a5-4042-9af7-c4510caf1495",
   "metadata": {},
   "source": [
    "考虑一个小范围的，x$\\in$ [-6,10]"
   ]
  },
  {
   "cell_type": "code",
   "execution_count": 64,
   "id": "6ff69358-7d1c-492c-92f2-d276636827d1",
   "metadata": {},
   "outputs": [
    {
     "name": "stdout",
     "output_type": "stream",
     "text": [
      "[-5, -4, -3, -2]\n",
      "[-1, -1, -1, -1]\n"
     ]
    },
    {
     "data": {
      "text/plain": [
       "[<matplotlib.lines.Line2D at 0x7fc402c058d0>]"
      ]
     },
     "execution_count": 64,
     "metadata": {},
     "output_type": "execute_result"
    },
    {
     "data": {
      "image/png": "[encoded data removed]",
      "text/plain": [
       "<Figure size 432x288 with 1 Axes>"
      ]
     },
     "metadata": {
      "needs_background": "light"
     },
     "output_type": "display_data"
    }
   ],
   "source": [
    "def relu_op2(x):\n",
    "    \"\"\"\n",
    "    x∈[-6,10]\n",
    "    \"\"\"\n",
    "    y0 = 0.5*x+2  # x∈[-6,10]，y0∈[-1,7]\n",
    "    relu1 = max(0,y0) # relu1∈[0,7]\n",
    "    y1 = relu1-4 # y1∈[-4,3]\n",
    "    relu2 = max(0,y1) # relu1∈[0,3]\n",
    "    y2 = -2*relu2+3 #y2∈[-3,3]\n",
    "    relu3 = max(0,y2) # relu3∈[0,3]\n",
    "    y3 = 2*relu3-7\n",
    "    return y3\n",
    "import numpy as np\n",
    "x_list = np.arange(-5,10).tolist()\n",
    "print(x_list[:4])\n",
    "y_list = [relu_op2(x) for x in x_list]\n",
    "print(y_list[:4])\n",
    "\n",
    "import matplotlib.pyplot as plt\n",
    "plt.plot(x_list,y_list)"
   ]
  },
  {
   "cell_type": "code",
   "execution_count": 54,
   "id": "0a40e010-2add-452f-ba26-70e98202c142",
   "metadata": {},
   "outputs": [
    {
     "name": "stdout",
     "output_type": "stream",
     "text": [
      "[-6, -5, -4, -3]\n",
      "-1.0 0 1.4 1.4 0.20000000000000018 0.20000000000000018 -0.5999999999999996\n",
      "[[-1.0, 0, 1.4, 1.4, 0.20000000000000018, 0.20000000000000018, -0.5999999999999996], [-0.5, 0, 1.4, 1.4, 0.20000000000000018, 0.20000000000000018, -0.5999999999999996], [0.0, 0, 1.4, 1.4, 0.20000000000000018, 0.20000000000000018, -0.5999999999999996], [0.5, 0.5, 1.65, 1.65, -0.2999999999999998, 0, -1]]\n",
      "transpose y_list: [[-1.0, -0.5, 0.0, 0.5, 1.0, 1.5, 2.0, 2.5, 3.0, 3.5, 4.0, 4.5, 5.0, 5.5, 6.0, 6.5], [0.0, 0.0, 0.0, 0.5, 1.0, 1.5, 2.0, 2.5, 3.0, 3.5, 4.0, 4.5, 5.0, 5.5, 6.0, 6.5], [1.4, 1.4, 1.4, 1.65, 1.9, 2.15, 2.4, 2.65, 2.9, 3.15, 3.4, 3.65, 3.9, 4.15, 4.4, 4.65], [1.4, 1.4, 1.4, 1.65, 1.9, 2.15, 2.4, 2.65, 2.9, 3.15, 3.4, 3.65, 3.9, 4.15, 4.4, 4.65]]\n"
     ]
    },
    {
     "data": {
      "image/png": "[encoded data removed]",
      "text/plain": [
       "<Figure size 432x288 with 1 Axes>"
      ]
     },
     "metadata": {
      "needs_background": "light"
     },
     "output_type": "display_data"
    }
   ],
   "source": [
    "def relu_op2(x):\n",
    "    \"\"\"\n",
    "    x∈[-6,10]\n",
    "    \"\"\"\n",
    "    y0 = 0.5*x+2  # x∈[-6,10]，y0∈[-1,7]\n",
    "    relu1 = max(0,y0) # relu1∈[0,7]\n",
    "    y1 = 0.5*relu1+1.4\n",
    "    relu2 = max(0,y1)\n",
    "    y2 = -2*relu2+3\n",
    "    relu3 = max(0,y2)\n",
    "    y3 = 2*relu3-1\n",
    "    return [y0,relu1,y1,relu2,y2,relu3,y3]\n",
    "\n",
    "import numpy as np\n",
    "x_list = np.arange(-6,10).tolist()\n",
    "print(x_list[:4])\n",
    "\n",
    "for x in x_list:\n",
    "    y0,relu1,y1,relu2,y2,relu3,y3 = relu_op2(x)\n",
    "    print(y0,relu1,y1,relu2,y2,relu3,y3)\n",
    "    break\n",
    "\n",
    "# 这样得到的是每个x对应的每组值，我需要的是y0一类（一个numpy），relu1一类（一个numpy）\n",
    "y_list = [relu_op2(x) for x in x_list]\n",
    "print(y_list[:4])\n",
    "\n",
    "y_np = np.array(y_list)\n",
    "y_transpose = np.transpose(y_np)\n",
    "y_list = y_transpose.tolist()\n",
    "print(f\"transpose y_list: {y_list[:4]}\")\n",
    "\n",
    "import matplotlib.pyplot as plt\n",
    "for y_single in y_list:\n",
    "    plt.plot(x_list,y_single)"
   ]
  },
  {
   "cell_type": "markdown",
   "id": "c3d3fcba-7130-449a-bc6c-90806c6dfbb1",
   "metadata": {},
   "source": [
    "## Relu变体(根据ELU自己设计一个)"
   ]
  },
  {
   "cell_type": "code",
   "execution_count": 40,
   "id": "9c72a962-432b-4eed-bc4c-887e5ad82549",
   "metadata": {},
   "outputs": [
    {
     "name": "stdout",
     "output_type": "stream",
     "text": [
      "[-9, -8, -7, -6]\n",
      "[-3, -3, -3, -3]\n"
     ]
    },
    {
     "data": {
      "text/plain": [
       "[<matplotlib.lines.Line2D at 0x7f895adf0150>]"
      ]
     },
     "execution_count": 40,
     "metadata": {},
     "output_type": "execute_result"
    },
    {
     "data": {
      "image/png": "[encoded data removed]",
      "text/plain": [
       "<Figure size 432x288 with 1 Axes>"
      ]
     },
     "metadata": {
      "needs_background": "light"
     },
     "output_type": "display_data"
    }
   ],
   "source": [
    "def relu_cascade(x):\n",
    "    y = max(-3,x)\n",
    "    return y\n",
    "\n",
    "import numpy as np\n",
    "x_list = np.arange(-9,10).tolist()\n",
    "print(x_list[:4])\n",
    "y_list = [relu_cascade(x) for x in x_list]\n",
    "print(y_list[:4])\n",
    "\n",
    "import matplotlib.pyplot as plt\n",
    "import matplotlib as mpl\n",
    "import numpy as np\n",
    "\n",
    "fig,ax=plt.subplots()\n",
    "ax.spines[['left', 'bottom']].set_position('center')\n",
    "ax.spines[['top', 'right']].set_visible(False)\n",
    "\n",
    "# ax.plot(x_list,y_list)\n",
    "# x = np.linspace(-np.pi, np.pi, 100)\n",
    "# y = 2*np.sin(x)\n",
    "\n",
    "x = np.linspace(0, 2*np.pi, 100)\n",
    "y = 2 * np.sin(x)\n",
    "\n",
    "ax.plot(x,y)"
   ]
  },
  {
   "cell_type": "code",
   "execution_count": 34,
   "id": "e349a718-62d5-406a-94d4-b62a87e93821",
   "metadata": {},
   "outputs": [
    {
     "data": {
      "text/plain": [
       "[<matplotlib.lines.Line2D at 0x7f895a9302d0>]"
      ]
     },
     "execution_count": 34,
     "metadata": {},
     "output_type": "execute_result"
    },
    {
     "data": {
      "image/png": "[encoded data removed]",
      "text/plain": [
       "<Figure size 432x288 with 1 Axes>"
      ]
     },
     "metadata": {
      "needs_background": "light"
     },
     "output_type": "display_data"
    }
   ],
   "source": [
    "fig,ax=plt.subplots()\n",
    "ax.spines['left'].set_position('center')\n",
    "ax.spines['right'].set_color('none')\n",
    "ax.spines['bottom'].set_position('center')\n",
    "ax.spines['top'].set_color('none')\n",
    "ax.xaxis.set_ticks_position('bottom')\n",
    "ax.yaxis.set_ticks_position('left')\n",
    "# ax.plot(x_list,y_list)\n",
    "ax.plot(x,y)"
   ]
  },
  {
   "cell_type": "markdown",
   "id": "99e46b97-5805-434a-b960-183dd5d8c8ef",
   "metadata": {},
   "source": [
    "没有完全改对，还有点问题，但是API更新没问题\n",
    "+ <https://stackoverflow.com/questions/4694478/center-origin-in-matplotlib>\n",
    "+ <https://matplotlib.org/stable/api/patheffects_api.html>"
   ]
  },
  {
   "cell_type": "code",
   "execution_count": 56,
   "id": "53db552d-44d3-4f98-a1ed-67270241af7d",
   "metadata": {},
   "outputs": [],
   "source": [
    "import matplotlib.pyplot as plt\n",
    "import matplotlib as mpl\n",
    "import matplotlib.patheffects\n",
    "import numpy as np\n",
    "\n",
    "def center_spines(ax=None, centerx=0, centery=0):\n",
    "    \"\"\"Centers the axis spines at <centerx, centery> on the axis \"ax\", and\n",
    "    places arrows at the end of the axis spines.\"\"\"\n",
    "    if ax is None:\n",
    "        ax = plt.gca()\n",
    "\n",
    "    # Set the axis's spines to be centered at the given point\n",
    "    # (Setting all 4 spines so that the tick marks go in both directions)\n",
    "    ax.spines['left'].set_position(('data', centerx))\n",
    "    ax.spines['bottom'].set_position(('data', centery))\n",
    "    ax.spines['right'].set_position(('data', centerx - 1))\n",
    "    ax.spines['top'].set_position(('data', centery - 1))\n",
    "\n",
    "    # Draw an arrow at the end of the spines\n",
    "    ax.spines['left'].set_path_effects([EndArrow()])\n",
    "    ax.spines['bottom'].set_path_effects([EndArrow()])\n",
    "\n",
    "    # Hide the line (but not ticks) for \"extra\" spines\n",
    "    for side in ['right', 'top']:\n",
    "        ax.spines[side].set_color('none')\n",
    "\n",
    "    # On both the x and y axes...\n",
    "    for axis, center in zip([ax.xaxis, ax.yaxis], [centerx, centery]):\n",
    "        # Turn on minor and major gridlines and ticks\n",
    "        axis.set_ticks_position('both')\n",
    "        axis.grid(True, 'major', ls='solid', lw=0.5, color='gray')\n",
    "        axis.grid(True, 'minor', ls='solid', lw=0.1, color='gray')\n",
    "        axis.set_minor_locator(mpl.ticker.AutoMinorLocator())\n",
    "\n",
    "        # Hide the ticklabels at <centerx, centery>\n",
    "        formatter = CenteredFormatter()\n",
    "        formatter.center = center\n",
    "        axis.set_major_formatter(formatter)\n",
    "\n",
    "    # Add offset ticklabels at <centerx, centery> using annotation\n",
    "    # (Should probably make these update when the plot is redrawn...)\n",
    "    xlabel, ylabel = map(formatter.format_data, [centerx, centery])\n",
    "    ax.annotate('(%s, %s)' % (xlabel, ylabel), (centerx, centery),\n",
    "            xytext=(-4, -4), textcoords='offset points',\n",
    "            ha='right', va='top')\n",
    "\n",
    "# Note: I'm implementing the arrows as a path effect rather than a custom \n",
    "#       Spines class. In the long run, a custom Spines class would be a better\n",
    "#       way to go. One of the side effects of this is that the arrows aren't\n",
    "#       reversed when the axes are reversed!\n",
    "\n",
    "# matplotlib.backend_bases.RendererBase.\n",
    "class EndArrow(mpl.patheffects.AbstractPathEffect):\n",
    "# class EndArrow(mpl.patheffects._Base):\n",
    "    \"\"\"A matplotlib patheffect to add arrows at the end of a path.\"\"\"\n",
    "    def __init__(self, headwidth=5, headheight=5, facecolor=(0,0,0), **kwargs):\n",
    "        super(mpl.patheffects.AbstractPathEffect, self).__init__()\n",
    "        self.width, self.height = headwidth, headheight\n",
    "        self._gc_args = kwargs\n",
    "        self.facecolor = facecolor\n",
    "\n",
    "        self.trans = mpl.transforms.Affine2D()\n",
    "\n",
    "        self.arrowpath = mpl.path.Path(\n",
    "                np.array([[-0.5, -0.2], [0.0, 0.0], [0.5, -0.2], \n",
    "                          [0.0, 1.0], [-0.5, -0.2]]),\n",
    "                np.array([1, 2, 2, 2, 79]))\n",
    "\n",
    "    def draw_path(self, renderer, gc, tpath, affine, rgbFace):\n",
    "        scalex = renderer.points_to_pixels(self.width)\n",
    "        scaley = renderer.points_to_pixels(self.height)\n",
    "\n",
    "        x0, y0 = tpath.vertices[-1]\n",
    "        dx, dy = tpath.vertices[-1] - tpath.vertices[-2]\n",
    "        azi =  np.arctan2(dy, dx) - np.pi / 2.0 \n",
    "        trans = affine + self.trans.clear(\n",
    "                ).scale(scalex, scaley\n",
    "                ).rotate(azi\n",
    "                ).translate(x0, y0)\n",
    "\n",
    "        gc0 = renderer.new_gc()\n",
    "        gc0.copy_properties(gc)\n",
    "        self._update_gc(gc0, self._gc_args)\n",
    "\n",
    "        if self.facecolor is None:\n",
    "            color = rgbFace\n",
    "        else:\n",
    "            color = self.facecolor\n",
    "\n",
    "        renderer.draw_path(gc0, self.arrowpath, trans, color)\n",
    "        renderer.draw_path(gc, tpath, affine, rgbFace)\n",
    "        gc0.restore()\n",
    "\n",
    "class CenteredFormatter(mpl.ticker.ScalarFormatter):\n",
    "    \"\"\"Acts exactly like the default Scalar Formatter, but yields an empty\n",
    "    label for ticks at \"center\".\"\"\"\n",
    "    center = 0\n",
    "    def __call__(self, value, pos=None):\n",
    "        if value == self.center:\n",
    "            return ''\n",
    "        else:\n",
    "            return mpl.ticker.ScalarFormatter.__call__(self, value, pos)"
   ]
  },
  {
   "cell_type": "code",
   "execution_count": 63,
   "id": "0c519a49-bb91-4a92-acab-53b990cd145b",
   "metadata": {},
   "outputs": [
    {
     "ename": "ValueError",
     "evalue": "math domain error",
     "output_type": "error",
     "traceback": [
      "\u001b[0;31m---------------------------------------------------------------------------\u001b[0m",
      "\u001b[0;31mValueError\u001b[0m                                Traceback (most recent call last)",
      "\u001b[0;32m/var/folders/qc/18zs860s79jg5k6p1pdwplpc0000gn/T/ipykernel_4443/1265648604.py\u001b[0m in \u001b[0;36m<module>\u001b[0;34m\u001b[0m\n\u001b[1;32m      1\u001b[0m \u001b[0mline\u001b[0m\u001b[0;34m,\u001b[0m \u001b[0;34m=\u001b[0m \u001b[0mplt\u001b[0m\u001b[0;34m.\u001b[0m\u001b[0mplot\u001b[0m\u001b[0;34m(\u001b[0m\u001b[0mx_list\u001b[0m\u001b[0;34m,\u001b[0m \u001b[0my_list\u001b[0m\u001b[0;34m)\u001b[0m\u001b[0;34m\u001b[0m\u001b[0;34m\u001b[0m\u001b[0m\n\u001b[0;32m----> 2\u001b[0;31m \u001b[0mcenter_spines\u001b[0m\u001b[0;34m(\u001b[0m\u001b[0;34m)\u001b[0m\u001b[0;34m\u001b[0m\u001b[0;34m\u001b[0m\u001b[0m\n\u001b[0m\u001b[1;32m      3\u001b[0m \u001b[0mplt\u001b[0m\u001b[0;34m.\u001b[0m\u001b[0maxis\u001b[0m\u001b[0;34m(\u001b[0m\u001b[0;34m'equal'\u001b[0m\u001b[0;34m)\u001b[0m\u001b[0;34m\u001b[0m\u001b[0;34m\u001b[0m\u001b[0m\n\u001b[1;32m      4\u001b[0m \u001b[0mplt\u001b[0m\u001b[0;34m.\u001b[0m\u001b[0mshow\u001b[0m\u001b[0;34m(\u001b[0m\u001b[0;34m)\u001b[0m\u001b[0;34m\u001b[0m\u001b[0;34m\u001b[0m\u001b[0m\n",
      "\u001b[0;32m/var/folders/qc/18zs860s79jg5k6p1pdwplpc0000gn/T/ipykernel_4443/3662894661.py\u001b[0m in \u001b[0;36mcenter_spines\u001b[0;34m(ax, centerx, centery)\u001b[0m\n\u001b[1;32m     40\u001b[0m     \u001b[0;31m# Add offset ticklabels at <centerx, centery> using annotation\u001b[0m\u001b[0;34m\u001b[0m\u001b[0;34m\u001b[0m\u001b[0;34m\u001b[0m\u001b[0m\n\u001b[1;32m     41\u001b[0m     \u001b[0;31m# (Should probably make these update when the plot is redrawn...)\u001b[0m\u001b[0;34m\u001b[0m\u001b[0;34m\u001b[0m\u001b[0;34m\u001b[0m\u001b[0m\n\u001b[0;32m---> 42\u001b[0;31m     \u001b[0mxlabel\u001b[0m\u001b[0;34m,\u001b[0m \u001b[0mylabel\u001b[0m \u001b[0;34m=\u001b[0m \u001b[0mmap\u001b[0m\u001b[0;34m(\u001b[0m\u001b[0mformatter\u001b[0m\u001b[0;34m.\u001b[0m\u001b[0mformat_data\u001b[0m\u001b[0;34m,\u001b[0m \u001b[0;34m[\u001b[0m\u001b[0mcenterx\u001b[0m\u001b[0;34m,\u001b[0m \u001b[0mcentery\u001b[0m\u001b[0;34m]\u001b[0m\u001b[0;34m)\u001b[0m\u001b[0;34m\u001b[0m\u001b[0;34m\u001b[0m\u001b[0m\n\u001b[0m\u001b[1;32m     43\u001b[0m     ax.annotate('(%s, %s)' % (xlabel, ylabel), (centerx, centery),\n\u001b[1;32m     44\u001b[0m             \u001b[0mxytext\u001b[0m\u001b[0;34m=\u001b[0m\u001b[0;34m(\u001b[0m\u001b[0;34m-\u001b[0m\u001b[0;36m4\u001b[0m\u001b[0;34m,\u001b[0m \u001b[0;34m-\u001b[0m\u001b[0;36m4\u001b[0m\u001b[0;34m)\u001b[0m\u001b[0;34m,\u001b[0m \u001b[0mtextcoords\u001b[0m\u001b[0;34m=\u001b[0m\u001b[0;34m'offset points'\u001b[0m\u001b[0;34m,\u001b[0m\u001b[0;34m\u001b[0m\u001b[0;34m\u001b[0m\u001b[0m\n",
      "\u001b[0;32m~/Documents/software/miniconda3/miniconda3/envs/py37/lib/python3.7/site-packages/matplotlib/ticker.py\u001b[0m in \u001b[0;36mformat_data\u001b[0;34m(self, value)\u001b[0m\n\u001b[1;32m    662\u001b[0m     \u001b[0;32mdef\u001b[0m \u001b[0mformat_data\u001b[0m\u001b[0;34m(\u001b[0m\u001b[0mself\u001b[0m\u001b[0;34m,\u001b[0m \u001b[0mvalue\u001b[0m\u001b[0;34m)\u001b[0m\u001b[0;34m:\u001b[0m\u001b[0;34m\u001b[0m\u001b[0;34m\u001b[0m\u001b[0m\n\u001b[1;32m    663\u001b[0m         \u001b[0;31m# docstring inherited\u001b[0m\u001b[0;34m\u001b[0m\u001b[0;34m\u001b[0m\u001b[0;34m\u001b[0m\u001b[0m\n\u001b[0;32m--> 664\u001b[0;31m         \u001b[0me\u001b[0m \u001b[0;34m=\u001b[0m \u001b[0mmath\u001b[0m\u001b[0;34m.\u001b[0m\u001b[0mfloor\u001b[0m\u001b[0;34m(\u001b[0m\u001b[0mmath\u001b[0m\u001b[0;34m.\u001b[0m\u001b[0mlog10\u001b[0m\u001b[0;34m(\u001b[0m\u001b[0mabs\u001b[0m\u001b[0;34m(\u001b[0m\u001b[0mvalue\u001b[0m\u001b[0;34m)\u001b[0m\u001b[0;34m)\u001b[0m\u001b[0;34m)\u001b[0m\u001b[0;34m\u001b[0m\u001b[0;34m\u001b[0m\u001b[0m\n\u001b[0m\u001b[1;32m    665\u001b[0m         \u001b[0ms\u001b[0m \u001b[0;34m=\u001b[0m \u001b[0mround\u001b[0m\u001b[0;34m(\u001b[0m\u001b[0mvalue\u001b[0m \u001b[0;34m/\u001b[0m \u001b[0;36m10\u001b[0m\u001b[0;34m**\u001b[0m\u001b[0me\u001b[0m\u001b[0;34m,\u001b[0m \u001b[0;36m10\u001b[0m\u001b[0;34m)\u001b[0m\u001b[0;34m\u001b[0m\u001b[0;34m\u001b[0m\u001b[0m\n\u001b[1;32m    666\u001b[0m         \u001b[0mexponent\u001b[0m \u001b[0;34m=\u001b[0m \u001b[0mself\u001b[0m\u001b[0;34m.\u001b[0m\u001b[0m_format_maybe_minus_and_locale\u001b[0m\u001b[0;34m(\u001b[0m\u001b[0;34m\"%d\"\u001b[0m\u001b[0;34m,\u001b[0m \u001b[0me\u001b[0m\u001b[0;34m)\u001b[0m\u001b[0;34m\u001b[0m\u001b[0;34m\u001b[0m\u001b[0m\n",
      "\u001b[0;31mValueError\u001b[0m: math domain error"
     ]
    },
    {
     "data": {
      "image/png": "[encoded data removed]",
      "text/plain": [
       "<Figure size 432x288 with 1 Axes>"
      ]
     },
     "metadata": {
      "needs_background": "light"
     },
     "output_type": "display_data"
    }
   ],
   "source": [
    "line, = plt.plot(x_list, y_list)\n",
    "center_spines()\n",
    "plt.axis('equal')\n",
    "plt.show()"
   ]
  },
  {
   "cell_type": "code",
   "execution_count": null,
   "id": "1c57f596-e969-4ff3-8cfc-5376e91ca82a",
   "metadata": {},
   "outputs": [],
   "source": []
  }
 ],
 "metadata": {
  "kernelspec": {
   "display_name": "Python 3 (ipykernel)",
   "language": "python",
   "name": "python3"
  },
  "language_info": {
   "codemirror_mode": {
    "name": "ipython",
    "version": 3
   },
   "file_extension": ".py",
   "mimetype": "text/x-python",
   "name": "python",
   "nbconvert_exporter": "python",
   "pygments_lexer": "ipython3",
   "version": "3.7.11"
  }
 },
 "nbformat": 4,
 "nbformat_minor": 5
}
